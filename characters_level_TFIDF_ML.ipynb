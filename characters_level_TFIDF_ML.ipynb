{
 "cells": [
  {
   "cell_type": "code",
   "execution_count": 31,
   "id": "fbaded0a",
   "metadata": {},
   "outputs": [],
   "source": [
    "from textblob import TextBlob\n",
    "from sklearn import model_selection,preprocessing,linear_model,naive_bayes,metrics\n",
    "from sklearn.feature_extraction.text import TfidfVectorizer,CountVectorizer\n",
    "from sklearn import decomposition,ensemble\n",
    "\n",
    "import pandas,xgboost,numpy,textblob,string\n",
    "from keras.preprocessing import text,sequence\n",
    "from keras import layers,models,optimizers\n",
    "\n",
    "from sklearn.neighbors import KNeighborsClassifier\n",
    "from sklearn.svm import SVC\n",
    "from sklearn.metrics import accuracy_score\n",
    "\n",
    "\n",
    "import warnings\n",
    "warnings.filterwarnings(\"ignore\")"
   ]
  },
  {
   "cell_type": "code",
   "execution_count": 32,
   "id": "4f799c49",
   "metadata": {},
   "outputs": [],
   "source": [
    "import pandas as pd\n",
    "import numpy as np\n",
    "\n",
    "data=pd.read_excel(\"dataset.xls\")\n",
    "data=data.dropna()"
   ]
  },
  {
   "cell_type": "code",
   "execution_count": 33,
   "id": "f9bc2689",
   "metadata": {},
   "outputs": [],
   "source": [
    "df=pd.DataFrame()\n",
    "df[\"text\"]=data[\"ACIKLAMA\"]\n",
    "df[\"label\"]=data[\"ILISKILI_BIRIM\"]"
   ]
  },
  {
   "cell_type": "code",
   "execution_count": 34,
   "id": "55b931e3",
   "metadata": {},
   "outputs": [],
   "source": [
    "# Camel case Pascal case Transformation:\n",
    "# Büyük harf - Küçük harf Dönüşümü:\n",
    "df[\"text\"]=df[\"text\"].apply(lambda x: \" \".join(x.lower() for x in x.split()))"
   ]
  },
  {
   "cell_type": "code",
   "execution_count": 35,
   "id": "949a2bb8",
   "metadata": {},
   "outputs": [],
   "source": [
    "# Cleaning Punctuation:\n",
    "# Noktalama İşaretlerini Silme:\n",
    "df[\"text\"]=df[\"text\"].str.replace(\"[^\\w\\s]\",\"\")"
   ]
  },
  {
   "cell_type": "code",
   "execution_count": 36,
   "id": "4a0ccbfc",
   "metadata": {},
   "outputs": [],
   "source": [
    "# Cleaning numbers:\n",
    "# Sayıları silme:\n",
    "df[\"text\"]=df[\"text\"].str.replace(\"\\d\",\"\")"
   ]
  },
  {
   "cell_type": "code",
   "execution_count": 37,
   "id": "fc3561b0",
   "metadata": {},
   "outputs": [],
   "source": [
    "# Stemming:\n",
    "# Kelimeleri köklerine indirgeme:\n",
    "from trnlp import TrnlpWord\n",
    "\n",
    "obj=TrnlpWord()\n",
    "\n",
    "def stemming(text):\n",
    "    words=[]\n",
    "    for i in text.split():\n",
    "        obj.setword(i)\n",
    "        words.append(obj.get_stem)\n",
    "    result=\" \".join(words)\n",
    "    return result\n",
    "df[\"text\"]=df[\"text\"].apply(stemming)"
   ]
  },
  {
   "cell_type": "code",
   "execution_count": 38,
   "id": "3053f59d",
   "metadata": {},
   "outputs": [],
   "source": [
    "# STOPWORDS:\n",
    "# Etkisiz Kelimeler:\n",
    "import nltk\n",
    "from nltk.corpus import stopwords\n",
    "sw=stopwords.words(\"turkish\")\n",
    "df[\"text\"]=df[\"text\"].apply(lambda x: \" \".join(x for x in x.split() if x not in sw))"
   ]
  },
  {
   "cell_type": "code",
   "execution_count": 39,
   "id": "7c3929ca",
   "metadata": {},
   "outputs": [],
   "source": [
    "# Deletion of less used word:\n",
    "# Seyrek kelimelerin silinmesi:\n",
    "sil=pd.Series(\" \".join(df[\"text\"]).split()).value_counts()[-1000:]\n",
    "df[\"text\"]=df[\"text\"].apply(lambda x: \" \".join(x for x in x.split() if x not in sil))"
   ]
  },
  {
   "cell_type": "code",
   "execution_count": 40,
   "id": "5732abe6",
   "metadata": {},
   "outputs": [],
   "source": [
    "# LEMMATIZATION:\n",
    "from textblob import Word\n",
    "df[\"text\"]=df[\"text\"].apply(lambda x: \" \".join([Word(word).lemmatize() for word in x.split()]))"
   ]
  },
  {
   "cell_type": "code",
   "execution_count": 41,
   "id": "4ccf21d7",
   "metadata": {},
   "outputs": [],
   "source": [
    "train_x,test_x,train_y,test_y=model_selection.train_test_split(df[\"text\"],\n",
    "                                                              df[\"label\"],\n",
    "                                                              random_state=42)"
   ]
  },
  {
   "cell_type": "code",
   "execution_count": 42,
   "id": "1ffe1894",
   "metadata": {},
   "outputs": [
    {
     "data": {
      "text/plain": [
       "(1494,)"
      ]
     },
     "execution_count": 42,
     "metadata": {},
     "output_type": "execute_result"
    }
   ],
   "source": [
    "train_x.shape"
   ]
  },
  {
   "cell_type": "code",
   "execution_count": 43,
   "id": "90609ef4",
   "metadata": {},
   "outputs": [
    {
     "data": {
      "text/plain": [
       "(1494,)"
      ]
     },
     "execution_count": 43,
     "metadata": {},
     "output_type": "execute_result"
    }
   ],
   "source": [
    "train_y.shape"
   ]
  },
  {
   "cell_type": "code",
   "execution_count": 44,
   "id": "0238b4f4",
   "metadata": {},
   "outputs": [],
   "source": [
    "encoder=preprocessing.LabelEncoder()"
   ]
  },
  {
   "cell_type": "code",
   "execution_count": 45,
   "id": "35f19737",
   "metadata": {},
   "outputs": [],
   "source": [
    "train_y=encoder.fit_transform(train_y)\n",
    "test_y=encoder.fit_transform(test_y)"
   ]
  },
  {
   "cell_type": "code",
   "execution_count": 46,
   "id": "da199635",
   "metadata": {},
   "outputs": [
    {
     "data": {
      "text/plain": [
       "array([2, 1, 3, 0, 2, 2, 2, 2, 2, 1, 1, 2, 2, 2, 2, 2, 0, 0, 2, 0])"
      ]
     },
     "execution_count": 46,
     "metadata": {},
     "output_type": "execute_result"
    }
   ],
   "source": [
    "test_y[0:20]"
   ]
  },
  {
   "cell_type": "markdown",
   "id": "0aca329f",
   "metadata": {},
   "source": [
    "# CHARACTERS LEVEL TF - IDF"
   ]
  },
  {
   "cell_type": "code",
   "execution_count": 47,
   "id": "81f76362",
   "metadata": {},
   "outputs": [
    {
     "data": {
      "text/plain": [
       "TfidfVectorizer(analyzer='char', ngram_range=(1, 3))"
      ]
     },
     "execution_count": 47,
     "metadata": {},
     "output_type": "execute_result"
    }
   ],
   "source": [
    "tf_idf_char_vectorizer=TfidfVectorizer(analyzer=\"char\",ngram_range=(1,3))\n",
    "tf_idf_char_vectorizer.fit(train_x)"
   ]
  },
  {
   "cell_type": "code",
   "execution_count": 48,
   "id": "159e4906",
   "metadata": {},
   "outputs": [],
   "source": [
    "x_train_tf_idf_char=tf_idf_char_vectorizer.transform(train_x)\n",
    "x_test_tf_idf_char=tf_idf_char_vectorizer.transform(test_x)"
   ]
  },
  {
   "cell_type": "markdown",
   "id": "0c625671",
   "metadata": {},
   "source": [
    "## ML: LOGISTIC REGRESSION"
   ]
  },
  {
   "cell_type": "code",
   "execution_count": 49,
   "id": "343a06d3",
   "metadata": {},
   "outputs": [
    {
     "name": "stdout",
     "output_type": "stream",
     "text": [
      "Char TF IDF Doğruluk Oranı:  0.7254285714285713\n"
     ]
    }
   ],
   "source": [
    "loj=linear_model.LogisticRegression()\n",
    "loj_model=loj.fit(x_train_tf_idf_char,train_x)\n",
    "accuracy=model_selection.cross_val_score(loj_model,\n",
    "                                        x_test_tf_idf_char,\n",
    "                                        test_y,\n",
    "                                        cv=10).mean()\n",
    "print(\"Char TF IDF Doğruluk Oranı: \",accuracy)"
   ]
  },
  {
   "cell_type": "markdown",
   "id": "8389e344",
   "metadata": {},
   "source": [
    "## ML: NAIVE BAYES"
   ]
  },
  {
   "cell_type": "code",
   "execution_count": 50,
   "id": "e9c29e85",
   "metadata": {},
   "outputs": [
    {
     "name": "stdout",
     "output_type": "stream",
     "text": [
      "Char TF IDF Doğruluk Oranı:  0.6973877551020408\n"
     ]
    }
   ],
   "source": [
    "nb=naive_bayes.MultinomialNB()\n",
    "nb_model=nb.fit(x_train_tf_idf_char,train_y)\n",
    "accuracy=model_selection.cross_val_score(nb_model,\n",
    "                                        x_test_tf_idf_char,\n",
    "                                        test_y,\n",
    "                                        cv=10).mean()\n",
    "print(\"Char TF IDF Doğruluk Oranı: \",accuracy)"
   ]
  },
  {
   "cell_type": "markdown",
   "id": "946ba2e3",
   "metadata": {},
   "source": [
    "## ML: RANDOM FOREST"
   ]
  },
  {
   "cell_type": "code",
   "execution_count": 51,
   "id": "7f296694",
   "metadata": {},
   "outputs": [
    {
     "name": "stdout",
     "output_type": "stream",
     "text": [
      "Char TF IDF Doğruluk Oranı:  0.7595102040816326\n"
     ]
    }
   ],
   "source": [
    "rf=ensemble.RandomForestClassifier()\n",
    "rf_model=rf.fit(x_train_tf_idf_char,train_y)\n",
    "accuracy=model_selection.cross_val_score(rf_model,\n",
    "                                        x_test_tf_idf_char,\n",
    "                                        test_y,\n",
    "                                        cv=10).mean()\n",
    "print(\"Char TF IDF Doğruluk Oranı: \",accuracy)"
   ]
  },
  {
   "cell_type": "markdown",
   "id": "f38730c3",
   "metadata": {},
   "source": [
    "## ML: XGBoost CLASSIFIER"
   ]
  },
  {
   "cell_type": "code",
   "execution_count": 52,
   "id": "9f12cfe1",
   "metadata": {},
   "outputs": [
    {
     "name": "stdout",
     "output_type": "stream",
     "text": [
      "[15:28:56] WARNING: C:/Users/Administrator/workspace/xgboost-win64_release_1.5.1/src/learner.cc:1115: Starting in XGBoost 1.3.0, the default evaluation metric used with the objective 'multi:softprob' was changed from 'merror' to 'mlogloss'. Explicitly set eval_metric if you'd like to restore the old behavior.\n",
      "[15:29:03] WARNING: C:/Users/Administrator/workspace/xgboost-win64_release_1.5.1/src/learner.cc:1115: Starting in XGBoost 1.3.0, the default evaluation metric used with the objective 'multi:softprob' was changed from 'merror' to 'mlogloss'. Explicitly set eval_metric if you'd like to restore the old behavior.\n",
      "[15:29:04] WARNING: C:/Users/Administrator/workspace/xgboost-win64_release_1.5.1/src/learner.cc:1115: Starting in XGBoost 1.3.0, the default evaluation metric used with the objective 'multi:softprob' was changed from 'merror' to 'mlogloss'. Explicitly set eval_metric if you'd like to restore the old behavior.\n",
      "[15:29:06] WARNING: C:/Users/Administrator/workspace/xgboost-win64_release_1.5.1/src/learner.cc:1115: Starting in XGBoost 1.3.0, the default evaluation metric used with the objective 'multi:softprob' was changed from 'merror' to 'mlogloss'. Explicitly set eval_metric if you'd like to restore the old behavior.\n",
      "[15:29:07] WARNING: C:/Users/Administrator/workspace/xgboost-win64_release_1.5.1/src/learner.cc:1115: Starting in XGBoost 1.3.0, the default evaluation metric used with the objective 'multi:softprob' was changed from 'merror' to 'mlogloss'. Explicitly set eval_metric if you'd like to restore the old behavior.\n",
      "[15:29:08] WARNING: C:/Users/Administrator/workspace/xgboost-win64_release_1.5.1/src/learner.cc:1115: Starting in XGBoost 1.3.0, the default evaluation metric used with the objective 'multi:softprob' was changed from 'merror' to 'mlogloss'. Explicitly set eval_metric if you'd like to restore the old behavior.\n",
      "[15:29:10] WARNING: C:/Users/Administrator/workspace/xgboost-win64_release_1.5.1/src/learner.cc:1115: Starting in XGBoost 1.3.0, the default evaluation metric used with the objective 'multi:softprob' was changed from 'merror' to 'mlogloss'. Explicitly set eval_metric if you'd like to restore the old behavior.\n",
      "[15:29:11] WARNING: C:/Users/Administrator/workspace/xgboost-win64_release_1.5.1/src/learner.cc:1115: Starting in XGBoost 1.3.0, the default evaluation metric used with the objective 'multi:softprob' was changed from 'merror' to 'mlogloss'. Explicitly set eval_metric if you'd like to restore the old behavior.\n",
      "[15:29:13] WARNING: C:/Users/Administrator/workspace/xgboost-win64_release_1.5.1/src/learner.cc:1115: Starting in XGBoost 1.3.0, the default evaluation metric used with the objective 'multi:softprob' was changed from 'merror' to 'mlogloss'. Explicitly set eval_metric if you'd like to restore the old behavior.\n",
      "[15:29:14] WARNING: C:/Users/Administrator/workspace/xgboost-win64_release_1.5.1/src/learner.cc:1115: Starting in XGBoost 1.3.0, the default evaluation metric used with the objective 'multi:softprob' was changed from 'merror' to 'mlogloss'. Explicitly set eval_metric if you'd like to restore the old behavior.\n",
      "[15:29:16] WARNING: C:/Users/Administrator/workspace/xgboost-win64_release_1.5.1/src/learner.cc:1115: Starting in XGBoost 1.3.0, the default evaluation metric used with the objective 'multi:softprob' was changed from 'merror' to 'mlogloss'. Explicitly set eval_metric if you'd like to restore the old behavior.\n",
      "Char TF IDF Doğruluk Oranı:  0.7575102040816326\n"
     ]
    }
   ],
   "source": [
    "xgb=xgboost.XGBClassifier()\n",
    "xgb_model=xgb.fit(x_train_tf_idf_char,train_y)\n",
    "accuracy=model_selection.cross_val_score(xgb_model,\n",
    "                                        x_test_tf_idf_char,\n",
    "                                        test_y,\n",
    "                                        cv=10).mean()\n",
    "print(\"Char TF IDF Doğruluk Oranı: \",accuracy)"
   ]
  },
  {
   "cell_type": "markdown",
   "id": "add731d1",
   "metadata": {},
   "source": [
    "## ML: SVM"
   ]
  },
  {
   "cell_type": "code",
   "execution_count": 53,
   "id": "5d8ab796",
   "metadata": {},
   "outputs": [
    {
     "name": "stdout",
     "output_type": "stream",
     "text": [
      "Char TF IDF Doğruluk Oranı:  0.7375102040816326\n"
     ]
    }
   ],
   "source": [
    "svm=SVC()\n",
    "svm_model=svm.fit(x_train_tf_idf_char,train_y)\n",
    "accuracy=model_selection.cross_val_score(svm_model,\n",
    "                                        x_test_tf_idf_char,\n",
    "                                        test_y,\n",
    "                                        cv=10).mean()\n",
    "print(\"Char TF IDF Doğruluk Oranı: \",accuracy)"
   ]
  },
  {
   "cell_type": "markdown",
   "id": "93e725c0",
   "metadata": {},
   "source": [
    "## ML: KNN"
   ]
  },
  {
   "cell_type": "code",
   "execution_count": 54,
   "id": "fe6e782f",
   "metadata": {},
   "outputs": [
    {
     "name": "stdout",
     "output_type": "stream",
     "text": [
      "Char TF IDF Doğruluk Oranı:  0.7455510204081632\n"
     ]
    }
   ],
   "source": [
    "knn=KNeighborsClassifier()\n",
    "knn_model=knn.fit(x_train_tf_idf_char,train_y)\n",
    "accuracy=model_selection.cross_val_score(knn_model,\n",
    "                                        x_test_tf_idf_char,\n",
    "                                        test_y,\n",
    "                                        cv=10).mean()\n",
    "print(\"Char TF IDF Doğruluk Oranı: \",accuracy)"
   ]
  },
  {
   "cell_type": "markdown",
   "id": "7ebdc3e4",
   "metadata": {},
   "source": [
    "###### Logistic Ragression: 0.7254285714285713\n",
    "\n",
    "###### Naive Bayes: 0.6973877551020408\n",
    "\n",
    "# Random Forest: 0.7595102040816326\n",
    "    \n",
    "# XGBoost: 0.7575102040816326\n",
    "    \n",
    "###### SVM: 0.7375102040816326\n",
    "    \n",
    "###### KNN: 0.7455510204081632"
   ]
  }
 ],
 "metadata": {
  "kernelspec": {
   "display_name": "Python 3 (ipykernel)",
   "language": "python",
   "name": "python3"
  },
  "language_info": {
   "codemirror_mode": {
    "name": "ipython",
    "version": 3
   },
   "file_extension": ".py",
   "mimetype": "text/x-python",
   "name": "python",
   "nbconvert_exporter": "python",
   "pygments_lexer": "ipython3",
   "version": "3.9.7"
  }
 },
 "nbformat": 4,
 "nbformat_minor": 5
}
