{
 "cells": [
  {
   "cell_type": "code",
   "execution_count": 46,
   "id": "cb4d7b5b",
   "metadata": {},
   "outputs": [],
   "source": [
    "from textblob import TextBlob\n",
    "from sklearn import model_selection,preprocessing,linear_model,naive_bayes,metrics\n",
    "from sklearn.feature_extraction.text import TfidfVectorizer,CountVectorizer\n",
    "from sklearn import decomposition,ensemble\n",
    "\n",
    "import pandas,xgboost,numpy,textblob,string\n",
    "from keras.preprocessing import text,sequence\n",
    "from keras import layers,models,optimizers\n",
    "\n",
    "from sklearn.neighbors import KNeighborsClassifier\n",
    "from sklearn.svm import SVC\n",
    "from sklearn.metrics import accuracy_score\n",
    "\n",
    "\n",
    "import warnings\n",
    "warnings.filterwarnings(\"ignore\")"
   ]
  },
  {
   "cell_type": "code",
   "execution_count": 47,
   "id": "0b342431",
   "metadata": {},
   "outputs": [],
   "source": [
    "import pandas as pd\n",
    "import numpy as np\n",
    "\n",
    "data=pd.read_excel(\"dataset.xls\")\n",
    "data=data.dropna()"
   ]
  },
  {
   "cell_type": "code",
   "execution_count": 48,
   "id": "fa76245e",
   "metadata": {},
   "outputs": [],
   "source": [
    "df=pd.DataFrame()\n",
    "df[\"text\"]=data[\"ACIKLAMA\"]\n",
    "df[\"label\"]=data[\"ILISKILI_BIRIM\"]"
   ]
  },
  {
   "cell_type": "code",
   "execution_count": 49,
   "id": "c6e233ff",
   "metadata": {},
   "outputs": [],
   "source": [
    "# Camel case Pascal case Transformation:\n",
    "# Büyük harf - Küçük harf Dönüşümü:\n",
    "df[\"text\"]=df[\"text\"].apply(lambda x: \" \".join(x.lower() for x in x.split()))"
   ]
  },
  {
   "cell_type": "code",
   "execution_count": 50,
   "id": "c124bb79",
   "metadata": {},
   "outputs": [],
   "source": [
    "# Cleaning Punctuation:\n",
    "# Noktalama İşaretlerini Silme:\n",
    "df[\"text\"]=df[\"text\"].str.replace(\"[^\\w\\s]\",\"\")"
   ]
  },
  {
   "cell_type": "code",
   "execution_count": 51,
   "id": "b0810d13",
   "metadata": {},
   "outputs": [],
   "source": [
    "# Cleaning numbers:\n",
    "# Sayıları silme:\n",
    "df[\"text\"]=df[\"text\"].str.replace(\"\\d\",\"\")"
   ]
  },
  {
   "cell_type": "code",
   "execution_count": 52,
   "id": "ef97804b",
   "metadata": {},
   "outputs": [],
   "source": [
    "# Stemming:\n",
    "# Kelimeleri köklerine indirgeme:\n",
    "from trnlp import TrnlpWord\n",
    "\n",
    "obj=TrnlpWord()\n",
    "\n",
    "def stemming(text):\n",
    "    words=[]\n",
    "    for i in text.split():\n",
    "        obj.setword(i)\n",
    "        words.append(obj.get_stem)\n",
    "    result=\" \".join(words)\n",
    "    return result\n",
    "df[\"text\"]=df[\"text\"].apply(stemming)"
   ]
  },
  {
   "cell_type": "code",
   "execution_count": 53,
   "id": "bae75c8f",
   "metadata": {},
   "outputs": [],
   "source": [
    "# STOPWORDS:\n",
    "# Etkisiz Kelimeler:\n",
    "import nltk\n",
    "from nltk.corpus import stopwords\n",
    "sw=stopwords.words(\"turkish\")\n",
    "df[\"text\"]=df[\"text\"].apply(lambda x: \" \".join(x for x in x.split() if x not in sw))"
   ]
  },
  {
   "cell_type": "code",
   "execution_count": 54,
   "id": "100e3dea",
   "metadata": {},
   "outputs": [],
   "source": [
    "# Deletion of less used word:\n",
    "# Seyrek kelimelerin silinmesi:\n",
    "sil=pd.Series(\" \".join(df[\"text\"]).split()).value_counts()[-1000:]\n",
    "df[\"text\"]=df[\"text\"].apply(lambda x: \" \".join(x for x in x.split() if x not in sil))"
   ]
  },
  {
   "cell_type": "code",
   "execution_count": 55,
   "id": "b5e38227",
   "metadata": {},
   "outputs": [],
   "source": [
    "# LEMMATIZATION:\n",
    "from textblob import Word\n",
    "df[\"text\"]=df[\"text\"].apply(lambda x: \" \".join([Word(word).lemmatize() for word in x.split() ]))"
   ]
  },
  {
   "cell_type": "code",
   "execution_count": 56,
   "id": "9f49df5f",
   "metadata": {},
   "outputs": [],
   "source": [
    "train_x,test_x,train_y,test_y=model_selection.train_test_split(df[\"text\"],\n",
    "                                                              df[\"label\"],\n",
    "                                                              random_state=42)"
   ]
  },
  {
   "cell_type": "code",
   "execution_count": 57,
   "id": "fa2ab283",
   "metadata": {},
   "outputs": [],
   "source": [
    "encoder=preprocessing.LabelEncoder()"
   ]
  },
  {
   "cell_type": "code",
   "execution_count": 58,
   "id": "b51a9347",
   "metadata": {},
   "outputs": [],
   "source": [
    "train_y=encoder.fit_transform(train_y)\n",
    "test_y=encoder.fit_transform(test_y)"
   ]
  },
  {
   "cell_type": "code",
   "execution_count": 59,
   "id": "4d91c3a4",
   "metadata": {},
   "outputs": [
    {
     "data": {
      "text/plain": [
       "array([2, 1, 3, 0, 2, 2, 2, 2, 2, 1, 1, 2, 2, 2, 2, 2, 0, 0, 2, 0])"
      ]
     },
     "execution_count": 59,
     "metadata": {},
     "output_type": "execute_result"
    }
   ],
   "source": [
    "test_y[0:20]"
   ]
  },
  {
   "cell_type": "markdown",
   "id": "3cf3a3a9",
   "metadata": {},
   "source": [
    "# N - GRAM LEVEL TF - IDF"
   ]
  },
  {
   "cell_type": "code",
   "execution_count": 60,
   "id": "bab1cd99",
   "metadata": {},
   "outputs": [
    {
     "data": {
      "text/plain": [
       "TfidfVectorizer(ngram_range=(1, 3))"
      ]
     },
     "execution_count": 60,
     "metadata": {},
     "output_type": "execute_result"
    }
   ],
   "source": [
    "tf_idf_ngram_vectorizer=TfidfVectorizer(ngram_range=(1,3))\n",
    "tf_idf_ngram_vectorizer.fit(train_x)"
   ]
  },
  {
   "cell_type": "code",
   "execution_count": 61,
   "id": "ef1bde8e",
   "metadata": {},
   "outputs": [],
   "source": [
    "x_train_tf_idf_ngram=tf_idf_ngram_vectorizer.transform(train_x)\n",
    "x_test_tf_idf_ngram=tf_idf_ngram_vectorizer.transform(test_x)"
   ]
  },
  {
   "cell_type": "markdown",
   "id": "31663431",
   "metadata": {},
   "source": [
    "### ML : NAIVE BAYES"
   ]
  },
  {
   "cell_type": "code",
   "execution_count": 63,
   "id": "27427aff",
   "metadata": {},
   "outputs": [
    {
     "name": "stdout",
     "output_type": "stream",
     "text": [
      "Word Level TF IDF Doğruluk Oranı:  0.6973877551020408\n"
     ]
    }
   ],
   "source": [
    "nb=naive_bayes.MultinomialNB()\n",
    "nb_model=nb.fit(x_train_tf_idf_ngram,train_y)\n",
    "accuracy=model_selection.cross_val_score(nb_model,\n",
    "                                        x_test_tf_idf_ngram,\n",
    "                                        test_y,\n",
    "                                        cv=10).mean()\n",
    "print(\"Word Level TF IDF Doğruluk Oranı: \",accuracy)"
   ]
  },
  {
   "cell_type": "markdown",
   "id": "8876c418",
   "metadata": {},
   "source": [
    "### ML: RANDOM FOREST"
   ]
  },
  {
   "cell_type": "code",
   "execution_count": 64,
   "id": "2a26e99f",
   "metadata": {},
   "outputs": [
    {
     "name": "stdout",
     "output_type": "stream",
     "text": [
      "N-Gram TF IDF Doğruluk Oranı:  0.715469387755102\n"
     ]
    }
   ],
   "source": [
    "rf=ensemble.RandomForestClassifier()\n",
    "rf_model=rf.fit(x_train_tf_idf_ngram,train_y)\n",
    "accuracy=model_selection.cross_val_score(rf_model,\n",
    "                                        x_test_tf_idf_ngram,\n",
    "                                        test_y,\n",
    "                                        cv=10).mean()\n",
    "print(\"N-Gram TF IDF Doğruluk Oranı: \",accuracy)"
   ]
  },
  {
   "cell_type": "markdown",
   "id": "db05ab78",
   "metadata": {},
   "source": [
    "### ML: XGBoost"
   ]
  },
  {
   "cell_type": "code",
   "execution_count": 65,
   "id": "90a6240f",
   "metadata": {},
   "outputs": [
    {
     "name": "stdout",
     "output_type": "stream",
     "text": [
      "[15:41:17] WARNING: C:/Users/Administrator/workspace/xgboost-win64_release_1.5.1/src/learner.cc:1115: Starting in XGBoost 1.3.0, the default evaluation metric used with the objective 'multi:softprob' was changed from 'merror' to 'mlogloss'. Explicitly set eval_metric if you'd like to restore the old behavior.\n",
      "[15:41:20] WARNING: C:/Users/Administrator/workspace/xgboost-win64_release_1.5.1/src/learner.cc:1115: Starting in XGBoost 1.3.0, the default evaluation metric used with the objective 'multi:softprob' was changed from 'merror' to 'mlogloss'. Explicitly set eval_metric if you'd like to restore the old behavior.\n",
      "[15:41:23] WARNING: C:/Users/Administrator/workspace/xgboost-win64_release_1.5.1/src/learner.cc:1115: Starting in XGBoost 1.3.0, the default evaluation metric used with the objective 'multi:softprob' was changed from 'merror' to 'mlogloss'. Explicitly set eval_metric if you'd like to restore the old behavior.\n",
      "[15:41:26] WARNING: C:/Users/Administrator/workspace/xgboost-win64_release_1.5.1/src/learner.cc:1115: Starting in XGBoost 1.3.0, the default evaluation metric used with the objective 'multi:softprob' was changed from 'merror' to 'mlogloss'. Explicitly set eval_metric if you'd like to restore the old behavior.\n",
      "[15:41:28] WARNING: C:/Users/Administrator/workspace/xgboost-win64_release_1.5.1/src/learner.cc:1115: Starting in XGBoost 1.3.0, the default evaluation metric used with the objective 'multi:softprob' was changed from 'merror' to 'mlogloss'. Explicitly set eval_metric if you'd like to restore the old behavior.\n",
      "[15:41:31] WARNING: C:/Users/Administrator/workspace/xgboost-win64_release_1.5.1/src/learner.cc:1115: Starting in XGBoost 1.3.0, the default evaluation metric used with the objective 'multi:softprob' was changed from 'merror' to 'mlogloss'. Explicitly set eval_metric if you'd like to restore the old behavior.\n",
      "[15:41:34] WARNING: C:/Users/Administrator/workspace/xgboost-win64_release_1.5.1/src/learner.cc:1115: Starting in XGBoost 1.3.0, the default evaluation metric used with the objective 'multi:softprob' was changed from 'merror' to 'mlogloss'. Explicitly set eval_metric if you'd like to restore the old behavior.\n",
      "[15:41:36] WARNING: C:/Users/Administrator/workspace/xgboost-win64_release_1.5.1/src/learner.cc:1115: Starting in XGBoost 1.3.0, the default evaluation metric used with the objective 'multi:softprob' was changed from 'merror' to 'mlogloss'. Explicitly set eval_metric if you'd like to restore the old behavior.\n",
      "[15:41:39] WARNING: C:/Users/Administrator/workspace/xgboost-win64_release_1.5.1/src/learner.cc:1115: Starting in XGBoost 1.3.0, the default evaluation metric used with the objective 'multi:softprob' was changed from 'merror' to 'mlogloss'. Explicitly set eval_metric if you'd like to restore the old behavior.\n",
      "[15:41:41] WARNING: C:/Users/Administrator/workspace/xgboost-win64_release_1.5.1/src/learner.cc:1115: Starting in XGBoost 1.3.0, the default evaluation metric used with the objective 'multi:softprob' was changed from 'merror' to 'mlogloss'. Explicitly set eval_metric if you'd like to restore the old behavior.\n",
      "[15:41:44] WARNING: C:/Users/Administrator/workspace/xgboost-win64_release_1.5.1/src/learner.cc:1115: Starting in XGBoost 1.3.0, the default evaluation metric used with the objective 'multi:softprob' was changed from 'merror' to 'mlogloss'. Explicitly set eval_metric if you'd like to restore the old behavior.\n",
      "N-Gram TF IDF Doğruluk Oranı:  0.7674285714285715\n"
     ]
    }
   ],
   "source": [
    "xgb=xgboost.XGBClassifier()\n",
    "xgb_model=xgb.fit(x_train_tf_idf_ngram,train_y)\n",
    "accuracy=model_selection.cross_val_score(xgb_model,\n",
    "                                        x_test_tf_idf_ngram,\n",
    "                                        test_y,\n",
    "                                        cv=10).mean()\n",
    "print(\"N-Gram TF IDF Doğruluk Oranı: \",accuracy)"
   ]
  },
  {
   "cell_type": "markdown",
   "id": "3989dd50",
   "metadata": {},
   "source": [
    "### ML: SVM"
   ]
  },
  {
   "cell_type": "code",
   "execution_count": 66,
   "id": "584db6f1",
   "metadata": {},
   "outputs": [
    {
     "name": "stdout",
     "output_type": "stream",
     "text": [
      "N-Gram TF IDF Doğruluk Oranı:  0.7114693877551019\n"
     ]
    }
   ],
   "source": [
    "svm=SVC()\n",
    "svm_model=svm.fit(x_train_tf_idf_ngram,train_y)\n",
    "accuracy=model_selection.cross_val_score(svm_model,\n",
    "                                        x_test_tf_idf_ngram,\n",
    "                                        test_y,cv=10).mean()\n",
    "print(\"N-Gram TF IDF Doğruluk Oranı: \",accuracy)"
   ]
  },
  {
   "cell_type": "markdown",
   "id": "7ddbb5a0",
   "metadata": {},
   "source": [
    "### ML: KNN"
   ]
  },
  {
   "cell_type": "code",
   "execution_count": 67,
   "id": "6e4e6971",
   "metadata": {},
   "outputs": [
    {
     "name": "stdout",
     "output_type": "stream",
     "text": [
      "N-Gram TF IDF Doğruluk Oranı:  0.7855918367346939\n"
     ]
    }
   ],
   "source": [
    "knn=KNeighborsClassifier()\n",
    "knn_model=knn.fit(x_train_tf_idf_ngram,train_y)\n",
    "accuracy=model_selection.cross_val_score(knn_model,\n",
    "                                        x_test_tf_idf_ngram,\n",
    "                                        test_y,\n",
    "                                        cv=10).mean()\n",
    "print(\"N-Gram TF IDF Doğruluk Oranı: \",accuracy)"
   ]
  },
  {
   "cell_type": "markdown",
   "id": "514a8951",
   "metadata": {},
   "source": [
    "# ngram_range=(2,3)\n",
    "\n",
    "## Naive Bayes: 0.7033877551020409\n",
    "\n",
    "###### Random Forest: 0.6274693877551021\n",
    "\n",
    "###### XGBoost: 0.6933469387755101\n",
    "\n",
    "## SVM: 0.7094693877551019\n",
    "\n",
    "###### KNN: 0.5232653061224489"
   ]
  },
  {
   "cell_type": "markdown",
   "id": "c8668252",
   "metadata": {},
   "source": [
    "# ngram_range=(1,3)\n",
    "\n",
    "###### Naive Bayes: 0.6973877551020408\n",
    "\n",
    "###### Random Forest: 0.715469387755102\n",
    "\n",
    "## XGBoost: 0.7674285714285715\n",
    "\n",
    "###### SVM: 0.7114693877551019\n",
    "\n",
    "## KNN: 0.7855918367346939"
   ]
  }
 ],
 "metadata": {
  "kernelspec": {
   "display_name": "Python 3 (ipykernel)",
   "language": "python",
   "name": "python3"
  },
  "language_info": {
   "codemirror_mode": {
    "name": "ipython",
    "version": 3
   },
   "file_extension": ".py",
   "mimetype": "text/x-python",
   "name": "python",
   "nbconvert_exporter": "python",
   "pygments_lexer": "ipython3",
   "version": "3.9.7"
  }
 },
 "nbformat": 4,
 "nbformat_minor": 5
}
