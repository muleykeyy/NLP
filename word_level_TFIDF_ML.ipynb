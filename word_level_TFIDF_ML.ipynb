{
 "cells": [
  {
   "cell_type": "code",
   "execution_count": 33,
   "id": "9eaf37a6",
   "metadata": {},
   "outputs": [],
   "source": [
    "from textblob import TextBlob\n",
    "from sklearn import model_selection,preprocessing,linear_model,naive_bayes,metrics\n",
    "from sklearn.feature_extraction.text import TfidfVectorizer,CountVectorizer\n",
    "from sklearn import decomposition,ensemble\n",
    "\n",
    "import pandas,xgboost,numpy,textblob,string\n",
    "from keras.preprocessing import text,sequence\n",
    "from keras import layers,models,optimizers\n",
    "\n",
    "from sklearn.neighbors import KNeighborsClassifier\n",
    "from sklearn.svm import SVC\n",
    "from sklearn.metrics import accuracy_score\n",
    "\n",
    "\n",
    "import warnings\n",
    "warnings.filterwarnings(\"ignore\")"
   ]
  },
  {
   "cell_type": "code",
   "execution_count": 34,
   "id": "2ec03486",
   "metadata": {},
   "outputs": [],
   "source": [
    "import pandas as pd\n",
    "import numpy as np\n",
    "\n",
    "data=pd.read_excel(\"dataset.xls\")\n",
    "data=data.dropna()\n"
   ]
  },
  {
   "cell_type": "code",
   "execution_count": 35,
   "id": "13cd9c16",
   "metadata": {},
   "outputs": [],
   "source": [
    "df=pd.DataFrame()\n",
    "df[\"text\"]=data[\"ACIKLAMA\"]\n",
    "df[\"label\"]=data[\"ILISKILI_BIRIM\"]"
   ]
  },
  {
   "cell_type": "code",
   "execution_count": 36,
   "id": "44ad38e2",
   "metadata": {},
   "outputs": [],
   "source": [
    "# Camel case Pascal case Transformation:\n",
    "# Büyük harf - Küçük harf Dönüşümü:\n",
    "df[\"text\"]=df[\"text\"].apply(lambda x: \" \".join(x.lower() for x in x.split()))"
   ]
  },
  {
   "cell_type": "code",
   "execution_count": 37,
   "id": "de655caf",
   "metadata": {},
   "outputs": [],
   "source": [
    "# Cleaning Punctuation:\n",
    "# Noktalama İşaretlerini Silme:\n",
    "df[\"text\"]=df[\"text\"].str.replace(\"[^\\w\\s]\",\"\")"
   ]
  },
  {
   "cell_type": "code",
   "execution_count": 38,
   "id": "ae501e78",
   "metadata": {},
   "outputs": [],
   "source": [
    "# Cleaning numbers:\n",
    "# Sayıları silme:\n",
    "df[\"text\"]=df[\"text\"].str.replace(\"\\d\",\"\")"
   ]
  },
  {
   "cell_type": "code",
   "execution_count": 39,
   "id": "9bf66b5c",
   "metadata": {},
   "outputs": [],
   "source": [
    "# STEMMING\n",
    "# Kelimeleri köklerine indirgeme:\n",
    "from trnlp import TrnlpWord\n",
    "\n",
    "obj=TrnlpWord()\n",
    "\n",
    "def stemming(text):\n",
    "    words=[]\n",
    "    for i in text.split():\n",
    "        obj.setword(i)\n",
    "        words.append(obj.get_stem)\n",
    "    result=\" \".join(words)\n",
    "    return result\n",
    "df[\"text\"]=df[\"text\"].apply(stemming)"
   ]
  },
  {
   "cell_type": "code",
   "execution_count": 40,
   "id": "3756bb2a",
   "metadata": {},
   "outputs": [],
   "source": [
    "# STOPWORDS:\n",
    "# Etkisiz Kelimeler:\n",
    "import nltk\n",
    "from nltk.corpus import stopwords\n",
    "sw=stopwords.words(\"turkish\")\n",
    "df[\"text\"]=df[\"text\"].apply(lambda x: \" \".join(x for x in x.split() if x not in sw))"
   ]
  },
  {
   "cell_type": "code",
   "execution_count": 41,
   "id": "2947e44d",
   "metadata": {},
   "outputs": [],
   "source": [
    "# Deletion of less used word:\n",
    "# Seyrek kelimelerin silinmesi:\n",
    "sil=pd.Series(\" \".join(df[\"text\"]).split()).value_counts()[-1000:]\n",
    "df[\"text\"]=df[\"text\"].apply(lambda x: \" \".join(x for x in x.split() if x not in sil))"
   ]
  },
  {
   "cell_type": "code",
   "execution_count": 42,
   "id": "49744e2b",
   "metadata": {},
   "outputs": [],
   "source": [
    "# LEMMATIZATION:\n",
    "from textblob import Word\n",
    "df[\"text\"]=df[\"text\"].apply(lambda x: \" \".join([Word(word).lemmatize() for word in x.split() ]))"
   ]
  },
  {
   "cell_type": "code",
   "execution_count": 43,
   "id": "0ea257ec",
   "metadata": {},
   "outputs": [],
   "source": [
    "train_x,test_x,train_y,test_y=model_selection.train_test_split(df[\"text\"],\n",
    "                                                              df[\"label\"],\n",
    "                                                              random_state=42)"
   ]
  },
  {
   "cell_type": "code",
   "execution_count": 44,
   "id": "20657840",
   "metadata": {},
   "outputs": [],
   "source": [
    "encoder=preprocessing.LabelEncoder()"
   ]
  },
  {
   "cell_type": "code",
   "execution_count": 45,
   "id": "501e0099",
   "metadata": {},
   "outputs": [],
   "source": [
    "train_y=encoder.fit_transform(train_y)\n",
    "test_y=encoder.fit_transform(test_y)"
   ]
  },
  {
   "cell_type": "code",
   "execution_count": 46,
   "id": "b62633be",
   "metadata": {},
   "outputs": [
    {
     "data": {
      "text/plain": [
       "numpy.ndarray"
      ]
     },
     "execution_count": 46,
     "metadata": {},
     "output_type": "execute_result"
    }
   ],
   "source": [
    "type(train_y)"
   ]
  },
  {
   "cell_type": "markdown",
   "id": "5ae9e5e9",
   "metadata": {},
   "source": [
    "# WORD LEVEL TF - IDF"
   ]
  },
  {
   "cell_type": "code",
   "execution_count": 47,
   "id": "98ea2f5b",
   "metadata": {},
   "outputs": [
    {
     "data": {
      "text/plain": [
       "TfidfVectorizer()"
      ]
     },
     "execution_count": 47,
     "metadata": {},
     "output_type": "execute_result"
    }
   ],
   "source": [
    "tf_idf_word_vectorizer=TfidfVectorizer()\n",
    "tf_idf_word_vectorizer.fit(train_x)"
   ]
  },
  {
   "cell_type": "code",
   "execution_count": 48,
   "id": "b930a6fb",
   "metadata": {},
   "outputs": [],
   "source": [
    "x_train_tf_idf_word=tf_idf_word_vectorizer.transform(train_x)\n",
    "x_test_tf_idf_word=tf_idf_word_vectorizer.transform(test_x)"
   ]
  },
  {
   "cell_type": "markdown",
   "id": "a36b03dd",
   "metadata": {},
   "source": [
    "## ML: LOGISTIC REGRESSION"
   ]
  },
  {
   "cell_type": "code",
   "execution_count": 50,
   "id": "08b9037c",
   "metadata": {},
   "outputs": [
    {
     "name": "stdout",
     "output_type": "stream",
     "text": [
      "Word Level TF IDF Doğruluk Oranı:  0.7315102040816326\n"
     ]
    }
   ],
   "source": [
    "loj=linear_model.LogisticRegression()\n",
    "loj_model=loj.fit(x_train_tf_idf_word,train_y)\n",
    "accuracy=model_selection.cross_val_score(loj_model,\n",
    "                                        x_test_tf_idf_word,\n",
    "                                        test_y,\n",
    "                                        cv=10).mean()\n",
    "print(\"Word Level TF IDF Doğruluk Oranı: \",accuracy)"
   ]
  },
  {
   "cell_type": "markdown",
   "id": "f57a8b10",
   "metadata": {},
   "source": [
    "## ML: NAIVE BAYES"
   ]
  },
  {
   "cell_type": "code",
   "execution_count": 51,
   "id": "aaf30807",
   "metadata": {},
   "outputs": [
    {
     "name": "stdout",
     "output_type": "stream",
     "text": [
      "Word Level TF IDF Doğruluk Oranı:  0.6973877551020408\n"
     ]
    }
   ],
   "source": [
    "nb=naive_bayes.MultinomialNB()\n",
    "nb_model=nb.fit(x_train_tf_idf_word,train_y)\n",
    "accuracy=model_selection.cross_val_score(nb_model,\n",
    "                                        x_test_tf_idf_word,\n",
    "                                        test_y,\n",
    "                                        cv=10).mean()\n",
    "print(\"Word Level TF IDF Doğruluk Oranı: \",accuracy)"
   ]
  },
  {
   "cell_type": "markdown",
   "id": "ad044514",
   "metadata": {},
   "source": [
    "## ML: RANDOM FOREST"
   ]
  },
  {
   "cell_type": "code",
   "execution_count": 52,
   "id": "3d3624cf",
   "metadata": {},
   "outputs": [
    {
     "name": "stdout",
     "output_type": "stream",
     "text": [
      "Word Level TF IDF Doğruluk Oranı:  0.7495102040816326\n"
     ]
    }
   ],
   "source": [
    "rf=ensemble.RandomForestClassifier()\n",
    "rf_model=rf.fit(x_train_tf_idf_word,train_y)\n",
    "accuracy=model_selection.cross_val_score(rf_model,\n",
    "                                        x_test_tf_idf_word,\n",
    "                                        test_y,\n",
    "                                        cv=10).mean()\n",
    "print(\"Word Level TF IDF Doğruluk Oranı: \",accuracy)"
   ]
  },
  {
   "cell_type": "markdown",
   "id": "fb38058d",
   "metadata": {},
   "source": [
    "### ML: XGBoost"
   ]
  },
  {
   "cell_type": "code",
   "execution_count": 53,
   "id": "28d356a7",
   "metadata": {},
   "outputs": [
    {
     "name": "stdout",
     "output_type": "stream",
     "text": [
      "[15:47:44] WARNING: C:/Users/Administrator/workspace/xgboost-win64_release_1.5.1/src/learner.cc:1115: Starting in XGBoost 1.3.0, the default evaluation metric used with the objective 'multi:softprob' was changed from 'merror' to 'mlogloss'. Explicitly set eval_metric if you'd like to restore the old behavior.\n",
      "[15:47:45] WARNING: C:/Users/Administrator/workspace/xgboost-win64_release_1.5.1/src/learner.cc:1115: Starting in XGBoost 1.3.0, the default evaluation metric used with the objective 'multi:softprob' was changed from 'merror' to 'mlogloss'. Explicitly set eval_metric if you'd like to restore the old behavior.\n",
      "[15:47:46] WARNING: C:/Users/Administrator/workspace/xgboost-win64_release_1.5.1/src/learner.cc:1115: Starting in XGBoost 1.3.0, the default evaluation metric used with the objective 'multi:softprob' was changed from 'merror' to 'mlogloss'. Explicitly set eval_metric if you'd like to restore the old behavior.\n",
      "[15:47:46] WARNING: C:/Users/Administrator/workspace/xgboost-win64_release_1.5.1/src/learner.cc:1115: Starting in XGBoost 1.3.0, the default evaluation metric used with the objective 'multi:softprob' was changed from 'merror' to 'mlogloss'. Explicitly set eval_metric if you'd like to restore the old behavior.\n",
      "[15:47:47] WARNING: C:/Users/Administrator/workspace/xgboost-win64_release_1.5.1/src/learner.cc:1115: Starting in XGBoost 1.3.0, the default evaluation metric used with the objective 'multi:softprob' was changed from 'merror' to 'mlogloss'. Explicitly set eval_metric if you'd like to restore the old behavior.\n",
      "[15:47:47] WARNING: C:/Users/Administrator/workspace/xgboost-win64_release_1.5.1/src/learner.cc:1115: Starting in XGBoost 1.3.0, the default evaluation metric used with the objective 'multi:softprob' was changed from 'merror' to 'mlogloss'. Explicitly set eval_metric if you'd like to restore the old behavior.\n",
      "[15:47:48] WARNING: C:/Users/Administrator/workspace/xgboost-win64_release_1.5.1/src/learner.cc:1115: Starting in XGBoost 1.3.0, the default evaluation metric used with the objective 'multi:softprob' was changed from 'merror' to 'mlogloss'. Explicitly set eval_metric if you'd like to restore the old behavior.\n",
      "[15:47:48] WARNING: C:/Users/Administrator/workspace/xgboost-win64_release_1.5.1/src/learner.cc:1115: Starting in XGBoost 1.3.0, the default evaluation metric used with the objective 'multi:softprob' was changed from 'merror' to 'mlogloss'. Explicitly set eval_metric if you'd like to restore the old behavior.\n",
      "[15:47:49] WARNING: C:/Users/Administrator/workspace/xgboost-win64_release_1.5.1/src/learner.cc:1115: Starting in XGBoost 1.3.0, the default evaluation metric used with the objective 'multi:softprob' was changed from 'merror' to 'mlogloss'. Explicitly set eval_metric if you'd like to restore the old behavior.\n",
      "[15:47:49] WARNING: C:/Users/Administrator/workspace/xgboost-win64_release_1.5.1/src/learner.cc:1115: Starting in XGBoost 1.3.0, the default evaluation metric used with the objective 'multi:softprob' was changed from 'merror' to 'mlogloss'. Explicitly set eval_metric if you'd like to restore the old behavior.\n",
      "[15:47:50] WARNING: C:/Users/Administrator/workspace/xgboost-win64_release_1.5.1/src/learner.cc:1115: Starting in XGBoost 1.3.0, the default evaluation metric used with the objective 'multi:softprob' was changed from 'merror' to 'mlogloss'. Explicitly set eval_metric if you'd like to restore the old behavior.\n",
      "Word Level TF IDF Doğruluk Oranı:  0.765469387755102\n"
     ]
    }
   ],
   "source": [
    "xgb=xgboost.XGBClassifier()\n",
    "xgb_model=xgb.fit(x_train_tf_idf_word,train_y)\n",
    "accuracy=model_selection.cross_val_score(xgb_model,\n",
    "                                        x_test_tf_idf_word,\n",
    "                                        test_y,\n",
    "                                        cv=10).mean()\n",
    "print(\"Word Level TF IDF Doğruluk Oranı: \",accuracy)"
   ]
  },
  {
   "cell_type": "markdown",
   "id": "e3812158",
   "metadata": {},
   "source": [
    "### ML: SVM"
   ]
  },
  {
   "cell_type": "code",
   "execution_count": 54,
   "id": "ef784966",
   "metadata": {},
   "outputs": [
    {
     "name": "stdout",
     "output_type": "stream",
     "text": [
      "Word Level TF IDF Doğruluk Oranı:  0.7235102040816326\n"
     ]
    }
   ],
   "source": [
    "svm=SVC()\n",
    "svm_model=svm.fit(x_train_tf_idf_word,train_y)\n",
    "accuracy=model_selection.cross_val_score(svm_model,\n",
    "                                        x_test_tf_idf_word,\n",
    "                                        test_y,\n",
    "                                        cv=10).mean()\n",
    "print(\"Word Level TF IDF Doğruluk Oranı: \",accuracy)"
   ]
  },
  {
   "cell_type": "markdown",
   "id": "33f9bdf9",
   "metadata": {},
   "source": [
    "### ML: KNN"
   ]
  },
  {
   "cell_type": "code",
   "execution_count": 55,
   "id": "6dcd3645",
   "metadata": {},
   "outputs": [
    {
     "name": "stdout",
     "output_type": "stream",
     "text": [
      "Word Level TF IDF Doğruluk Oranı:  0.7636326530612245\n"
     ]
    }
   ],
   "source": [
    "knn=KNeighborsClassifier()\n",
    "knn_model=knn.fit(x_train_tf_idf_word,train_y)\n",
    "accuracy=model_selection.cross_val_score(knn_model,\n",
    "                                        x_test_tf_idf_word,\n",
    "                                        test_y,\n",
    "                                        cv=10).mean()\n",
    "print(\"Word Level TF IDF Doğruluk Oranı: \",accuracy)"
   ]
  },
  {
   "cell_type": "markdown",
   "id": "223ffdae",
   "metadata": {},
   "source": [
    "###### Logistic Regression: 0.7315102040816326\n",
    "\n",
    "###### Naive Bayes: 0.6973877551020408\n",
    "\n",
    "###### Random Forest: 0.7495102040816326\n",
    "\n",
    "# XGBoost: 0.765469387755102\n",
    "\n",
    "###### SVM: 0.7235102040816326\n",
    "\n",
    "# KNN: 0.7636326530612245"
   ]
  }
 ],
 "metadata": {
  "kernelspec": {
   "display_name": "Python 3 (ipykernel)",
   "language": "python",
   "name": "python3"
  },
  "language_info": {
   "codemirror_mode": {
    "name": "ipython",
    "version": 3
   },
   "file_extension": ".py",
   "mimetype": "text/x-python",
   "name": "python",
   "nbconvert_exporter": "python",
   "pygments_lexer": "ipython3",
   "version": "3.9.7"
  }
 },
 "nbformat": 4,
 "nbformat_minor": 5
}
