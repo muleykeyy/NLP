{
 "cells": [
  {
   "cell_type": "code",
   "execution_count": 3,
   "id": "dc1712eb",
   "metadata": {},
   "outputs": [],
   "source": [
    "from textblob import TextBlob\n",
    "from sklearn import model_selection,preprocessing,linear_model,naive_bayes,metrics\n",
    "from sklearn.feature_extraction.text import TfidfVectorizer,CountVectorizer\n",
    "from sklearn import decomposition,ensemble\n",
    "\n",
    "import pandas,xgboost,numpy,textblob,string\n",
    "from keras.preprocessing import text,sequence\n",
    "from keras import layers,models,optimizers\n",
    "\n",
    "import warnings\n",
    "warnings.filterwarnings(\"ignore\")"
   ]
  },
  {
   "cell_type": "code",
   "execution_count": 4,
   "id": "3e6e3ad6",
   "metadata": {},
   "outputs": [],
   "source": [
    "import pandas as pd\n",
    "import numpy as np\n",
    "\n",
    "data=pd.read_excel(\"dataset.xls\")\n",
    "data=data.dropna()"
   ]
  },
  {
   "cell_type": "code",
   "execution_count": 5,
   "id": "8cbd8a23",
   "metadata": {},
   "outputs": [],
   "source": [
    "df=pd.DataFrame()\n",
    "df[\"text\"]=data[\"ACIKLAMA\"]\n",
    "df[\"label\"]=data[\"ILISKILI_BIRIM\"]"
   ]
  },
  {
   "cell_type": "code",
   "execution_count": 6,
   "id": "e575d6ca",
   "metadata": {},
   "outputs": [],
   "source": [
    "# Camel case Pascal case Transformation:\n",
    "# Büyük harf - Küçük harf Dönüşümü:\n",
    "df[\"text\"]=df[\"text\"].apply(lambda x: \" \".join(x.lower() for x in x.split()))"
   ]
  },
  {
   "cell_type": "code",
   "execution_count": 7,
   "id": "7460e78a",
   "metadata": {},
   "outputs": [],
   "source": [
    "# Cleaning Punctuation:\n",
    "# Noktalama İşaretlerini Silme:\n",
    "df[\"text\"]=df[\"text\"].str.replace(\"[^\\w\\s]\",\"\")"
   ]
  },
  {
   "cell_type": "code",
   "execution_count": 8,
   "id": "e834ae5f",
   "metadata": {},
   "outputs": [],
   "source": [
    "# Cleaning numbers:\n",
    "# Sayıları silme:\n",
    "df[\"text\"]=df[\"text\"].str.replace(\"\\d\",\"\")"
   ]
  },
  {
   "cell_type": "code",
   "execution_count": 9,
   "id": "49c3202f",
   "metadata": {},
   "outputs": [],
   "source": [
    "# Stemming:\n",
    "# Kelimeleri köklerine indirgeme:\n",
    "from trnlp import TrnlpWord\n",
    "\n",
    "obj=TrnlpWord()\n",
    "\n",
    "def stemming(text):\n",
    "    words=[]\n",
    "    for i in text.split():\n",
    "        obj.setword(i)\n",
    "        words.append(obj.get_stem)\n",
    "    result=\" \".join(words)\n",
    "    return result\n",
    "df[\"text\"]=df[\"text\"].apply(stemming)"
   ]
  },
  {
   "cell_type": "code",
   "execution_count": 10,
   "id": "f14c66f2",
   "metadata": {},
   "outputs": [],
   "source": [
    "# STOPWORDS:\n",
    "# Etkisiz Kelimeler:\n",
    "import nltk\n",
    "from nltk.corpus import stopwords\n",
    "sw=stopwords.words(\"turkish\")\n",
    "df[\"text\"]=df[\"text\"].apply(lambda x: \" \".join(x for x in x.split() if x not in sw))"
   ]
  },
  {
   "cell_type": "code",
   "execution_count": 11,
   "id": "a6276409",
   "metadata": {},
   "outputs": [],
   "source": [
    "# Deletion of less used word:\n",
    "# Seyrek kelimelerin silinmesi:\n",
    "sil=pd.Series(\" \".join(df[\"text\"]).split()).value_counts()[-1000:]\n",
    "df[\"text\"]=df[\"text\"].apply(lambda x: \" \".join(x for x in x.split() if x not in sil))"
   ]
  },
  {
   "cell_type": "code",
   "execution_count": 12,
   "id": "566f1751",
   "metadata": {},
   "outputs": [],
   "source": [
    "# LEMMATIZATION:\n",
    "from textblob import Word\n",
    "df[\"text\"]=df[\"text\"].apply(lambda x: \" \".join([Word(word).lemmatize() for word in x.split() ]))"
   ]
  },
  {
   "cell_type": "code",
   "execution_count": 13,
   "id": "5795dcc8",
   "metadata": {},
   "outputs": [],
   "source": [
    "train_x,test_x,train_y,test_y=model_selection.train_test_split(df[\"text\"],\n",
    "                                                              df[\"label\"],\n",
    "                                                              random_state=42)"
   ]
  },
  {
   "cell_type": "code",
   "execution_count": 14,
   "id": "679942d2",
   "metadata": {},
   "outputs": [],
   "source": [
    "encoder=preprocessing.LabelEncoder()"
   ]
  },
  {
   "cell_type": "code",
   "execution_count": 15,
   "id": "f900051e",
   "metadata": {},
   "outputs": [],
   "source": [
    "train_y=encoder.fit_transform(train_y)\n",
    "test_y=encoder.fit_transform(test_y)"
   ]
  },
  {
   "cell_type": "code",
   "execution_count": 16,
   "id": "50c90fdf",
   "metadata": {},
   "outputs": [
    {
     "data": {
      "text/plain": [
       "array([2, 2, 2, 0, 2, 2, 2, 1, 2, 1, 1, 0, 0, 2, 2, 2, 1, 2, 2, 0])"
      ]
     },
     "execution_count": 16,
     "metadata": {},
     "output_type": "execute_result"
    }
   ],
   "source": [
    "train_y[0:20]"
   ]
  },
  {
   "cell_type": "code",
   "execution_count": 17,
   "id": "ef50601b",
   "metadata": {},
   "outputs": [
    {
     "data": {
      "text/plain": [
       "array([2, 1, 3, 0, 2, 2, 2, 2, 2, 1, 1, 2, 2, 2, 2, 2, 0, 0, 2, 0])"
      ]
     },
     "execution_count": 17,
     "metadata": {},
     "output_type": "execute_result"
    }
   ],
   "source": [
    "test_y[0:20]"
   ]
  },
  {
   "cell_type": "markdown",
   "id": "b13bafa5",
   "metadata": {},
   "source": [
    "# COUNT VECTORS"
   ]
  },
  {
   "cell_type": "code",
   "execution_count": 18,
   "id": "8d9ef9c2",
   "metadata": {},
   "outputs": [
    {
     "data": {
      "text/plain": [
       "CountVectorizer()"
      ]
     },
     "execution_count": 18,
     "metadata": {},
     "output_type": "execute_result"
    }
   ],
   "source": [
    "vectorizer=CountVectorizer()\n",
    "vectorizer.fit(train_x)"
   ]
  },
  {
   "cell_type": "code",
   "execution_count": 19,
   "id": "69ac5cf9",
   "metadata": {},
   "outputs": [],
   "source": [
    "x_train_count=vectorizer.transform(train_x)\n",
    "x_test_count=vectorizer.transform(test_x)"
   ]
  },
  {
   "cell_type": "markdown",
   "id": "bea7e0cc",
   "metadata": {},
   "source": [
    "### ML MODEL : LOGISTIC REGRESSION"
   ]
  },
  {
   "cell_type": "code",
   "execution_count": 21,
   "id": "d571029a",
   "metadata": {},
   "outputs": [
    {
     "name": "stdout",
     "output_type": "stream",
     "text": [
      "Count Vectors Doğruluk Oranı:  0.7855102040816326\n"
     ]
    }
   ],
   "source": [
    "loj=linear_model.LogisticRegression()\n",
    "loj_model=loj.fit(x_train_count,train_y)\n",
    "accuracy=model_selection.cross_val_score(loj_model,\n",
    "                                        x_test_count,\n",
    "                                        test_y,\n",
    "                                        cv=10).mean()\n",
    "print(\"Count Vectors Doğruluk Oranı: \",accuracy)"
   ]
  },
  {
   "cell_type": "markdown",
   "id": "747fbfab",
   "metadata": {},
   "source": [
    "### ML MODEL: NAIVE BAYES"
   ]
  },
  {
   "cell_type": "code",
   "execution_count": 22,
   "id": "09f9d277",
   "metadata": {},
   "outputs": [
    {
     "name": "stdout",
     "output_type": "stream",
     "text": [
      "Count Vectors Doğruluk Oranı:  0.7454693877551021\n"
     ]
    }
   ],
   "source": [
    "nb=naive_bayes.MultinomialNB()\n",
    "nb_model=nb.fit(x_train_count,train_y)\n",
    "accuracy=model_selection.cross_val_score(nb_model,\n",
    "                                        x_test_count,\n",
    "                                        test_y,\n",
    "                                        cv=10).mean()\n",
    "print(\"Count Vectors Doğruluk Oranı: \",accuracy)"
   ]
  },
  {
   "cell_type": "markdown",
   "id": "77f6c58b",
   "metadata": {},
   "source": [
    "### ML MODEL: RANDOM FOREST"
   ]
  },
  {
   "cell_type": "code",
   "execution_count": 23,
   "id": "53d181d8",
   "metadata": {},
   "outputs": [
    {
     "name": "stdout",
     "output_type": "stream",
     "text": [
      "Count Vectors Doğruluk Oranı:  0.7415102040816326\n"
     ]
    }
   ],
   "source": [
    "rf=ensemble.RandomForestClassifier()\n",
    "rf_model=rf.fit(x_train_count,train_y)\n",
    "accuracy=model_selection.cross_val_score(rf_model,\n",
    "                                        x_test_count,\n",
    "                                        test_y,\n",
    "                                        cv=10).mean()\n",
    "print(\"Count Vectors Doğruluk Oranı: \",accuracy)"
   ]
  },
  {
   "cell_type": "markdown",
   "id": "3959dbcb",
   "metadata": {},
   "source": [
    "### ML MODEL: XGBoost"
   ]
  },
  {
   "cell_type": "code",
   "execution_count": 24,
   "id": "a2257505",
   "metadata": {},
   "outputs": [
    {
     "name": "stdout",
     "output_type": "stream",
     "text": [
      "[15:31:48] WARNING: C:/Users/Administrator/workspace/xgboost-win64_release_1.5.1/src/learner.cc:1115: Starting in XGBoost 1.3.0, the default evaluation metric used with the objective 'multi:softprob' was changed from 'merror' to 'mlogloss'. Explicitly set eval_metric if you'd like to restore the old behavior.\n",
      "[15:31:48] WARNING: C:/Users/Administrator/workspace/xgboost-win64_release_1.5.1/src/learner.cc:1115: Starting in XGBoost 1.3.0, the default evaluation metric used with the objective 'multi:softprob' was changed from 'merror' to 'mlogloss'. Explicitly set eval_metric if you'd like to restore the old behavior.\n",
      "[15:31:49] WARNING: C:/Users/Administrator/workspace/xgboost-win64_release_1.5.1/src/learner.cc:1115: Starting in XGBoost 1.3.0, the default evaluation metric used with the objective 'multi:softprob' was changed from 'merror' to 'mlogloss'. Explicitly set eval_metric if you'd like to restore the old behavior.\n",
      "[15:31:49] WARNING: C:/Users/Administrator/workspace/xgboost-win64_release_1.5.1/src/learner.cc:1115: Starting in XGBoost 1.3.0, the default evaluation metric used with the objective 'multi:softprob' was changed from 'merror' to 'mlogloss'. Explicitly set eval_metric if you'd like to restore the old behavior.\n",
      "[15:31:50] WARNING: C:/Users/Administrator/workspace/xgboost-win64_release_1.5.1/src/learner.cc:1115: Starting in XGBoost 1.3.0, the default evaluation metric used with the objective 'multi:softprob' was changed from 'merror' to 'mlogloss'. Explicitly set eval_metric if you'd like to restore the old behavior.\n",
      "[15:31:50] WARNING: C:/Users/Administrator/workspace/xgboost-win64_release_1.5.1/src/learner.cc:1115: Starting in XGBoost 1.3.0, the default evaluation metric used with the objective 'multi:softprob' was changed from 'merror' to 'mlogloss'. Explicitly set eval_metric if you'd like to restore the old behavior.\n",
      "[15:31:51] WARNING: C:/Users/Administrator/workspace/xgboost-win64_release_1.5.1/src/learner.cc:1115: Starting in XGBoost 1.3.0, the default evaluation metric used with the objective 'multi:softprob' was changed from 'merror' to 'mlogloss'. Explicitly set eval_metric if you'd like to restore the old behavior.\n",
      "[15:31:51] WARNING: C:/Users/Administrator/workspace/xgboost-win64_release_1.5.1/src/learner.cc:1115: Starting in XGBoost 1.3.0, the default evaluation metric used with the objective 'multi:softprob' was changed from 'merror' to 'mlogloss'. Explicitly set eval_metric if you'd like to restore the old behavior.\n",
      "[15:31:52] WARNING: C:/Users/Administrator/workspace/xgboost-win64_release_1.5.1/src/learner.cc:1115: Starting in XGBoost 1.3.0, the default evaluation metric used with the objective 'multi:softprob' was changed from 'merror' to 'mlogloss'. Explicitly set eval_metric if you'd like to restore the old behavior.\n",
      "[15:31:52] WARNING: C:/Users/Administrator/workspace/xgboost-win64_release_1.5.1/src/learner.cc:1115: Starting in XGBoost 1.3.0, the default evaluation metric used with the objective 'multi:softprob' was changed from 'merror' to 'mlogloss'. Explicitly set eval_metric if you'd like to restore the old behavior.\n",
      "[15:31:52] WARNING: C:/Users/Administrator/workspace/xgboost-win64_release_1.5.1/src/learner.cc:1115: Starting in XGBoost 1.3.0, the default evaluation metric used with the objective 'multi:softprob' was changed from 'merror' to 'mlogloss'. Explicitly set eval_metric if you'd like to restore the old behavior.\n",
      "Count Vectors Doğruluk Oranı: 0.773469387755102\n"
     ]
    }
   ],
   "source": [
    "xgb=xgboost.XGBClassifier()\n",
    "xgb_model=xgb.fit(x_train_count,train_y)\n",
    "accuracy=model_selection.cross_val_score(xgb_model,\n",
    "                                        x_test_count,\n",
    "                                        test_y,\n",
    "                                        cv=10).mean()\n",
    "print(\"Count Vectors Doğruluk Oranı:\", accuracy)"
   ]
  },
  {
   "cell_type": "markdown",
   "id": "3230ffd3",
   "metadata": {},
   "source": [
    "### ML MODEL: SVM"
   ]
  },
  {
   "cell_type": "code",
   "execution_count": 25,
   "id": "afcbab2e",
   "metadata": {},
   "outputs": [],
   "source": [
    "from sklearn.svm import SVC\n",
    "from sklearn.metrics import accuracy_score"
   ]
  },
  {
   "cell_type": "code",
   "execution_count": 26,
   "id": "b551afdb",
   "metadata": {},
   "outputs": [
    {
     "name": "stdout",
     "output_type": "stream",
     "text": [
      "Count Vectors Doğruluk Oranı: 0.7174693877551019\n"
     ]
    }
   ],
   "source": [
    "svm=SVC()\n",
    "svm_model=svm.fit(x_train_count,train_y)\n",
    "accuracy=model_selection.cross_val_score(svm_model,\n",
    "                                        x_test_count,\n",
    "                                         test_y,\n",
    "                                        cv=10).mean()\n",
    "print(\"Count Vectors Doğruluk Oranı:\", accuracy)"
   ]
  },
  {
   "cell_type": "markdown",
   "id": "04f924ab",
   "metadata": {},
   "source": [
    "### ML MODEL KNN"
   ]
  },
  {
   "cell_type": "code",
   "execution_count": 27,
   "id": "3fdd5a0d",
   "metadata": {},
   "outputs": [],
   "source": [
    "from sklearn.neighbors import KNeighborsClassifier"
   ]
  },
  {
   "cell_type": "code",
   "execution_count": 28,
   "id": "deebed85",
   "metadata": {},
   "outputs": [
    {
     "name": "stdout",
     "output_type": "stream",
     "text": [
      "Count Vectors Doğruluk Oranı: 0.7034285714285715\n"
     ]
    }
   ],
   "source": [
    "knn=KNeighborsClassifier()\n",
    "knn_model=knn.fit(x_train_count,train_y)\n",
    "accuracy=model_selection.cross_val_score(knn_model,\n",
    "                                          x_test_count,\n",
    "                                          test_y,\n",
    "                                          cv=10).mean()\n",
    "print(\"Count Vectors Doğruluk Oranı:\", accuracy)"
   ]
  },
  {
   "cell_type": "markdown",
   "id": "a9b95f5e",
   "metadata": {},
   "source": [
    "# Logistic Regression : 0.7855102040816326 \n",
    "\n",
    "###### Naive Bayes: 0.7454693877551021\n",
    "\n",
    "###### Random Forest: 0.7415102040816326\n",
    "\n",
    "# XGBoost: 0.773469387755102\n",
    "\n",
    "###### SVM: 0.7174693877551019\n",
    "\n",
    "###### KNN: 0.7034285714285715"
   ]
  }
 ],
 "metadata": {
  "kernelspec": {
   "display_name": "Python 3 (ipykernel)",
   "language": "python",
   "name": "python3"
  },
  "language_info": {
   "codemirror_mode": {
    "name": "ipython",
    "version": 3
   },
   "file_extension": ".py",
   "mimetype": "text/x-python",
   "name": "python",
   "nbconvert_exporter": "python",
   "pygments_lexer": "ipython3",
   "version": "3.9.7"
  }
 },
 "nbformat": 4,
 "nbformat_minor": 5
}
